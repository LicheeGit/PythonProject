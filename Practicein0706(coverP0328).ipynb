{
 "cells": [
  {
   "cell_type": "code",
   "execution_count": 1,
   "metadata": {
    "collapsed": true
   },
   "outputs": [],
   "source": [
    "import random\n",
    "\n",
    "import time"
   ]
  },
  {
   "cell_type": "code",
   "execution_count": 3,
   "metadata": {
    "collapsed": true
   },
   "outputs": [
    {
     "name": "stdout",
     "output_type": "stream",
     "text": [
      "input length:123456\n",
      "illegal\n"
     ]
    }
   ],
   "source": [
    "length = input(\"input length:\")\n",
    "if 0 < int(length) <= 10:\n",
    "    print(\"legal\")\n",
    "else:\n",
    "    print(\"illegal\")"
   ]
  },
  {
   "cell_type": "code",
   "execution_count": 7,
   "metadata": {
    "collapsed": true
   },
   "outputs": [
    {
     "name": "stdout",
     "output_type": "stream",
     "text": [
      "your sex: 0\n",
      "man\n"
     ]
    }
   ],
   "source": [
    "sex = int(input(\"your sex: \"))\n",
    "if(sex == 0):\n",
    "    print(\"man\")\n",
    "elif(sex == 1):\n",
    "    print(\"woman\")\n",
    "else:\n",
    "    print(\"nothing\")"
   ]
  },
  {
   "cell_type": "code",
   "execution_count": 10,
   "metadata": {
    "collapsed": false
   },
   "outputs": [
    {
     "name": "stdout",
     "output_type": "stream",
     "text": [
      "py\n"
     ]
    }
   ],
   "source": [
    "myFileName = \"Practice.in.0328.py\"\n",
    "index = myFileName.rfind(\".\")\n",
    "print(myFileName[index+1:])"
   ]
  },
  {
   "cell_type": "code",
   "execution_count": 13,
   "metadata": {
    "collapsed": false
   },
   "outputs": [
    {
     "name": "stdout",
     "output_type": "stream",
     "text": [
      "Lichee's PythoN LearNing is So Happy\n",
      "<class 'list'>\n",
      "[\"Lichee's\", 'Python', 'Learning is So Happy']\n",
      "Lichee's python learning is so happy\n",
      "True\n",
      "True\n"
     ]
    }
   ],
   "source": [
    "mystr = \"Lichee's Python Learning is So Happy\"\n",
    "print(mystr.replace(\"n\", \"N\", 2))\n",
    "print(type(mystr.split(\" \")))\n",
    "print(mystr.split(\" \", 2))\n",
    "\n",
    "print(mystr.capitalize())\n",
    "\n",
    "print(mystr.startswith(\"Liche\"))\n",
    "print(myFileName.endswith(\".py\"))\n"
   ]
  },
  {
   "cell_type": "code",
   "execution_count": 14,
   "metadata": {
    "collapsed": false
   },
   "outputs": [
    {
     "name": "stdout",
     "output_type": "stream",
     "text": [
      "('h', 'a', 'ha')\n",
      "('hah', 'a', '')\n"
     ]
    }
   ],
   "source": [
    "Ha = \"haha\"\n",
    "print(Ha.partition(\"a\"))\n",
    "print(Ha.rpartition(\"a\"))"
   ]
  },
  {
   "cell_type": "code",
   "execution_count": 15,
   "metadata": {
    "collapsed": false
   },
   "outputs": [
    {
     "name": "stdout",
     "output_type": "stream",
     "text": [
      "Call_me_Lichee_97\n"
     ]
    }
   ],
   "source": [
    "mm = \"_\"\n",
    "newStr = [\"Call\", \"me\", \"Lichee\", \"97\"]\n",
    "print(mm.join(newStr))"
   ]
  }
 ],
 "metadata": {
  "kernelspec": {
   "display_name": "Python 3",
   "language": "python",
   "name": "python3"
  },
  "language_info": {
   "codemirror_mode": {
    "name": "ipython",
    "version": 3
   },
   "file_extension": ".py",
   "mimetype": "text/x-python",
   "name": "python",
   "nbconvert_exporter": "python",
   "pygments_lexer": "ipython3",
   "version": "3.6.0"
  }
 },
 "nbformat": 4,
 "nbformat_minor": 2
}
